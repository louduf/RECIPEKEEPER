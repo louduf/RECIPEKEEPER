{
  "nbformat": 4,
  "nbformat_minor": 0,
  "metadata": {
    "colab": {
      "provenance": [],
      "authorship_tag": "ABX9TyOkoR80TBXhB23SWA+8TbG0",
      "include_colab_link": true
    },
    "kernelspec": {
      "name": "python3",
      "display_name": "Python 3"
    },
    "language_info": {
      "name": "python"
    }
  },
  "cells": [
    {
      "cell_type": "markdown",
      "metadata": {
        "id": "view-in-github",
        "colab_type": "text"
      },
      "source": [
        "<a href=\"https://colab.research.google.com/github/louduf/RECIPEKEEPER/blob/main/Display_a_substring_without_the_first_%26_last_2_characters.ipynb\" target=\"_parent\"><img src=\"https://colab.research.google.com/assets/colab-badge.svg\" alt=\"Open In Colab\"/></a>"
      ]
    },
    {
      "cell_type": "code",
      "execution_count": 3,
      "metadata": {
        "colab": {
          "base_uri": "https://localhost:8080/"
        },
        "id": "42CxeTjU49jH",
        "outputId": "619451f1-a06d-4d39-9189-16c7e83a1a10"
      },
      "outputs": [
        {
          "output_type": "stream",
          "name": "stdout",
          "text": [
            "Enter a string: Hello\n",
            "Modified string: l\n"
          ]
        }
      ],
      "source": [
        "user_string = input(\"Enter a string: \")\n",
        "print(\"Modified string: \" + user_string[2:-2])\n",
        "\n"
      ]
    }
  ]
}