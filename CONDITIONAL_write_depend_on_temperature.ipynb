{
  "nbformat": 4,
  "nbformat_minor": 0,
  "metadata": {
    "colab": {
      "provenance": [],
      "authorship_tag": "ABX9TyPqupPDmb6xgF9sZPppJRx5",
      "include_colab_link": true
    },
    "kernelspec": {
      "name": "python3",
      "display_name": "Python 3"
    },
    "language_info": {
      "name": "python"
    }
  },
  "cells": [
    {
      "cell_type": "markdown",
      "metadata": {
        "id": "view-in-github",
        "colab_type": "text"
      },
      "source": [
        "<a href=\"https://colab.research.google.com/github/louduf/RECIPEKEEPER/blob/main/CONDITIONAL_write_depend_on_temperature.ipynb\" target=\"_parent\"><img src=\"https://colab.research.google.com/assets/colab-badge.svg\" alt=\"Open In Colab\"/></a>"
      ]
    },
    {
      "cell_type": "code",
      "execution_count": 2,
      "metadata": {
        "colab": {
          "base_uri": "https://localhost:8080/"
        },
        "id": "BDLcXTh6BSme",
        "outputId": "1a5bd61c-3c58-4c31-8123-5d1373c0ab6a"
      },
      "outputs": [
        {
          "output_type": "stream",
          "name": "stdout",
          "text": [
            "It's a warm day.\n"
          ]
        }
      ],
      "source": [
        "temperature = 30\n",
        "if temperature > 30:\n",
        "  print(\"It's hot outside.\")\n",
        "elif temperature == 30:\n",
        "  print(\"It's a warm day.\")\n",
        "else:\n",
        "  print(\"It's not too hot today.\")\n"
      ]
    }
  ]
}