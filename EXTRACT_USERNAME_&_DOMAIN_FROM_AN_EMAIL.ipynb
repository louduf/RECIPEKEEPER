{
  "nbformat": 4,
  "nbformat_minor": 0,
  "metadata": {
    "colab": {
      "provenance": [],
      "authorship_tag": "ABX9TyNHO8aIaGjaTjPgc4CzqWeE",
      "include_colab_link": true
    },
    "kernelspec": {
      "name": "python3",
      "display_name": "Python 3"
    },
    "language_info": {
      "name": "python"
    }
  },
  "cells": [
    {
      "cell_type": "markdown",
      "metadata": {
        "id": "view-in-github",
        "colab_type": "text"
      },
      "source": [
        "<a href=\"https://colab.research.google.com/github/louduf/RECIPEKEEPER/blob/main/EXTRACT_USERNAME_%26_DOMAIN_FROM_AN_EMAIL.ipynb\" target=\"_parent\"><img src=\"https://colab.research.google.com/assets/colab-badge.svg\" alt=\"Open In Colab\"/></a>"
      ]
    },
    {
      "cell_type": "code",
      "execution_count": null,
      "metadata": {
        "colab": {
          "base_uri": "https://localhost:8080/"
        },
        "id": "yySkYZteTIMe",
        "outputId": "358cc900-5df4-40b9-e427-f2ac9025d917"
      },
      "outputs": [
        {
          "output_type": "stream",
          "name": "stdout",
          "text": [
            "Enter your email address: louise_duff@hotmail.com\n",
            "Username:  louise_duff\n",
            "Domain:  hotmail.com\n"
          ]
        }
      ],
      "source": [
        "email = input(\"Enter your email address: \")\n",
        "(username, domain) = email.split(\"@\")\n",
        "print(\"Username: \", username)\n",
        "print(\"Domain: \", domain)\n"
      ]
    }
  ]
}