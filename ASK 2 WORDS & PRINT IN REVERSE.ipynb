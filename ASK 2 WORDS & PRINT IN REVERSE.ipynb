{
  "nbformat": 4,
  "nbformat_minor": 0,
  "metadata": {
    "colab": {
      "provenance": [],
      "authorship_tag": "ABX9TyM9P2Rl3vbTP0EjUpc6QQRi",
      "include_colab_link": true
    },
    "kernelspec": {
      "name": "python3",
      "display_name": "Python 3"
    },
    "language_info": {
      "name": "python"
    }
  },
  "cells": [
    {
      "cell_type": "markdown",
      "metadata": {
        "id": "view-in-github",
        "colab_type": "text"
      },
      "source": [
        "<a href=\"https://colab.research.google.com/github/louduf/RECIPEKEEPER/blob/main/ASK%202%20WORDS%20%26%20PRINT%20IN%20REVERSE.ipynb\" target=\"_parent\"><img src=\"https://colab.research.google.com/assets/colab-badge.svg\" alt=\"Open In Colab\"/></a>"
      ]
    },
    {
      "cell_type": "code",
      "execution_count": 3,
      "metadata": {
        "colab": {
          "base_uri": "https://localhost:8080/"
        },
        "id": "KjTe0gFMG3t5",
        "outputId": "fac574c6-3216-438a-fea9-243813bd4a81"
      },
      "outputs": [
        {
          "output_type": "stream",
          "name": "stdout",
          "text": [
            "Please key in a first word: hello\n",
            "Now please key in a second word: you\n",
            "The Second word was: you\n",
            "The first word was: hello\n"
          ]
        }
      ],
      "source": [
        "print(\"Please key in a first word: \", end = \"\")\n",
        "word1 = input()\n",
        "print(\"Now please key in a second word: \", end = \"\")\n",
        "word2 = input()\n",
        "print(\"The Second word was: \" + word2)\n",
        "print(\"The first word was: \" + word1)"
      ]
    }
  ]
}