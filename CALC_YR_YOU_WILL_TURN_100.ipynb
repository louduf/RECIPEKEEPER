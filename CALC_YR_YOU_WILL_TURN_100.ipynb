{
  "nbformat": 4,
  "nbformat_minor": 0,
  "metadata": {
    "colab": {
      "provenance": [],
      "authorship_tag": "ABX9TyP61Px3L6UBEHKIvH2sVydk",
      "include_colab_link": true
    },
    "kernelspec": {
      "name": "python3",
      "display_name": "Python 3"
    },
    "language_info": {
      "name": "python"
    }
  },
  "cells": [
    {
      "cell_type": "markdown",
      "metadata": {
        "id": "view-in-github",
        "colab_type": "text"
      },
      "source": [
        "<a href=\"https://colab.research.google.com/github/louduf/RECIPEKEEPER/blob/main/CALC_YR_YOU_WILL_TURN_100.ipynb\" target=\"_parent\"><img src=\"https://colab.research.google.com/assets/colab-badge.svg\" alt=\"Open In Colab\"/></a>"
      ]
    },
    {
      "cell_type": "code",
      "execution_count": 1,
      "metadata": {
        "colab": {
          "base_uri": "https://localhost:8080/"
        },
        "id": "zKXKN8l5WXUm",
        "outputId": "352093b1-4a2d-4e5c-b5cb-f0912fe6c921"
      },
      "outputs": [
        {
          "output_type": "stream",
          "name": "stdout",
          "text": [
            "How old are you? 21\n",
            "You will turn 100 years old in the year:  2102\n"
          ]
        }
      ],
      "source": [
        "age = int(input(\"How old are you? \"))\n",
        "year = 2023 - age + 100 # Replace 2023 with the current year\n",
        "print(\"You will turn 100 years old in the year: \", year)\n"
      ]
    }
  ]
}