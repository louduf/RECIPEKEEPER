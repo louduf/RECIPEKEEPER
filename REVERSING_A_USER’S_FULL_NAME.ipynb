{
  "nbformat": 4,
  "nbformat_minor": 0,
  "metadata": {
    "colab": {
      "provenance": [],
      "authorship_tag": "ABX9TyNx8USfxFewtkF7A5d8cOVm",
      "include_colab_link": true
    },
    "kernelspec": {
      "name": "python3",
      "display_name": "Python 3"
    },
    "language_info": {
      "name": "python"
    }
  },
  "cells": [
    {
      "cell_type": "markdown",
      "metadata": {
        "id": "view-in-github",
        "colab_type": "text"
      },
      "source": [
        "<a href=\"https://colab.research.google.com/github/louduf/RECIPEKEEPER/blob/main/REVERSING_A_USER%E2%80%99S_FULL_NAME.ipynb\" target=\"_parent\"><img src=\"https://colab.research.google.com/assets/colab-badge.svg\" alt=\"Open In Colab\"/></a>"
      ]
    },
    {
      "cell_type": "code",
      "execution_count": 1,
      "metadata": {
        "colab": {
          "base_uri": "https://localhost:8080/"
        },
        "id": "4AMFzehxUUvp",
        "outputId": "03d02a36-40d4-4ecf-e5be-47fe74395705"
      },
      "outputs": [
        {
          "output_type": "stream",
          "name": "stdout",
          "text": [
            "Enter your full name: Louise Duff\n",
            "Reversed Name: ffuD esiuoL\n"
          ]
        }
      ],
      "source": [
        "full_name = input(\"Enter your full name: \")\n",
        "print(\"Reversed Name: \" + full_name[::-1])"
      ]
    }
  ]
}