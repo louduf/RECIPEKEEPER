{
  "nbformat": 4,
  "nbformat_minor": 0,
  "metadata": {
    "colab": {
      "provenance": [],
      "authorship_tag": "ABX9TyPCrFK7OFKT0xqBvUy2Y/HY",
      "include_colab_link": true
    },
    "kernelspec": {
      "name": "python3",
      "display_name": "Python 3"
    },
    "language_info": {
      "name": "python"
    }
  },
  "cells": [
    {
      "cell_type": "markdown",
      "metadata": {
        "id": "view-in-github",
        "colab_type": "text"
      },
      "source": [
        "<a href=\"https://colab.research.google.com/github/louduf/RECIPEKEEPER/blob/main/Untitled2.ipynb\" target=\"_parent\"><img src=\"https://colab.research.google.com/assets/colab-badge.svg\" alt=\"Open In Colab\"/></a>"
      ]
    },
    {
      "cell_type": "code",
      "execution_count": 1,
      "metadata": {
        "colab": {
          "base_uri": "https://localhost:8080/"
        },
        "id": "MlsIzv_9Qt1r",
        "outputId": "a3e156c8-9a35-421e-a50d-6b01886192bf"
      },
      "outputs": [
        {
          "output_type": "stream",
          "name": "stdout",
          "text": [
            "Enter some comma - separated numbers: 3,4,5\n",
            "List:  ['3', '4', '5']\n",
            "List:  ['3', '4', '5']\n",
            "Tuple:  ('3', '4', '5')\n"
          ]
        }
      ],
      "source": [
        "numbers = input(\"Enter some comma - separated numbers: \")\n",
        "number_list = numbers.split(\",\")\n",
        "number_tuple = tuple(number_list)\n",
        "print(\"List: \", number_list)\n",
        "print(\"List: \", number_list)\n",
        "print(\"Tuple: \", number_tuple)\n"
      ]
    }
  ]
}