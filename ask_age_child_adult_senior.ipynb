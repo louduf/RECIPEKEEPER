{
  "nbformat": 4,
  "nbformat_minor": 0,
  "metadata": {
    "colab": {
      "provenance": [],
      "authorship_tag": "ABX9TyOi1SY7doI26uikWpeMZogm",
      "include_colab_link": true
    },
    "kernelspec": {
      "name": "python3",
      "display_name": "Python 3"
    },
    "language_info": {
      "name": "python"
    }
  },
  "cells": [
    {
      "cell_type": "markdown",
      "metadata": {
        "id": "view-in-github",
        "colab_type": "text"
      },
      "source": [
        "<a href=\"https://colab.research.google.com/github/louduf/RECIPEKEEPER/blob/main/ask_age_child_adult_senior.ipynb\" target=\"_parent\"><img src=\"https://colab.research.google.com/assets/colab-badge.svg\" alt=\"Open In Colab\"/></a>"
      ]
    },
    {
      "cell_type": "code",
      "execution_count": 13,
      "metadata": {
        "colab": {
          "base_uri": "https://localhost:8080/"
        },
        "id": "INoPjamSFI2s",
        "outputId": "eb7b0d13-4ef6-47dd-be92-e4068761d714"
      },
      "outputs": [
        {
          "output_type": "stream",
          "name": "stdout",
          "text": [
            "Enter the age: 70\n",
            "The person is a senior.\n"
          ]
        }
      ],
      "source": [
        "age = int(input(\"Enter the age: \"))\n",
        "if age < 18:\n",
        "  print(\"The person is a child.\")\n",
        "elif age == 18:\n",
        "  print(\"The person is an adult.\")\n",
        "elif age > 65:\n",
        "  print(\"The person is a senior.\")\n",
        "else:\n",
        "  print(\"The person is an adult\")"
      ]
    }
  ]
}