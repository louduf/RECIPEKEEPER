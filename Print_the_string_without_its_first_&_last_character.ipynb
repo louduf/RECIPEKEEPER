{
  "nbformat": 4,
  "nbformat_minor": 0,
  "metadata": {
    "colab": {
      "provenance": [],
      "authorship_tag": "ABX9TyMCHx+8rifLIs6tP0MXIJ81",
      "include_colab_link": true
    },
    "kernelspec": {
      "name": "python3",
      "display_name": "Python 3"
    },
    "language_info": {
      "name": "python"
    }
  },
  "cells": [
    {
      "cell_type": "markdown",
      "metadata": {
        "id": "view-in-github",
        "colab_type": "text"
      },
      "source": [
        "<a href=\"https://colab.research.google.com/github/louduf/RECIPEKEEPER/blob/main/Print_the_string_without_its_first_%26_last_character.ipynb\" target=\"_parent\"><img src=\"https://colab.research.google.com/assets/colab-badge.svg\" alt=\"Open In Colab\"/></a>"
      ]
    },
    {
      "cell_type": "code",
      "execution_count": 1,
      "metadata": {
        "colab": {
          "base_uri": "https://localhost:8080/"
        },
        "id": "HprMzZc69h7t",
        "outputId": "3d613547-6f66-4455-84eb-8701b3082d82"
      },
      "outputs": [
        {
          "output_type": "stream",
          "name": "stdout",
          "text": [
            "Enter a long string: edinburgh\n",
            "String without first and last character: dinburg\n"
          ]
        }
      ],
      "source": [
        "user_string = input (\"Enter a long string: \")\n",
        "print(\"String without first and last character: \" + user_string[1:-1])\n",
        "\n"
      ]
    }
  ]
}