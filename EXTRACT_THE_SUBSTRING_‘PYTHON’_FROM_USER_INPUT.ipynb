{
  "nbformat": 4,
  "nbformat_minor": 0,
  "metadata": {
    "colab": {
      "provenance": [],
      "authorship_tag": "ABX9TyOA6+piX7yaEcaaSdZYEH7f",
      "include_colab_link": true
    },
    "kernelspec": {
      "name": "python3",
      "display_name": "Python 3"
    },
    "language_info": {
      "name": "python"
    }
  },
  "cells": [
    {
      "cell_type": "markdown",
      "metadata": {
        "id": "view-in-github",
        "colab_type": "text"
      },
      "source": [
        "<a href=\"https://colab.research.google.com/github/louduf/RECIPEKEEPER/blob/main/EXTRACT_THE_SUBSTRING_%E2%80%98PYTHON%E2%80%99_FROM_USER_INPUT.ipynb\" target=\"_parent\"><img src=\"https://colab.research.google.com/assets/colab-badge.svg\" alt=\"Open In Colab\"/></a>"
      ]
    },
    {
      "cell_type": "code",
      "execution_count": null,
      "metadata": {
        "colab": {
          "base_uri": "https://localhost:8080/"
        },
        "id": "Q-d90TKSmq3u",
        "outputId": "bf303b2a-d550-4559-c347-38ba50c39cdb"
      },
      "outputs": [
        {
          "output_type": "stream",
          "name": "stdout",
          "text": [
            "Enter 'Hello Python World': Hello Python World\n",
            "Python\n"
          ]
        }
      ],
      "source": [
        "full_string = input(\"Enter 'Hello Python World': \")\n",
        "start_index = full_string.find(\"Python\") # Get the start index of \"Python\"\n",
        "print(full_string[start_index:start_index+6]) # Print substring \"Python\"\n"
      ]
    }
  ]
}