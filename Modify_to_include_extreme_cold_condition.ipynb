{
  "nbformat": 4,
  "nbformat_minor": 0,
  "metadata": {
    "colab": {
      "provenance": [],
      "authorship_tag": "ABX9TyPeT4jyToB7c57rvg/0cwTe",
      "include_colab_link": true
    },
    "kernelspec": {
      "name": "python3",
      "display_name": "Python 3"
    },
    "language_info": {
      "name": "python"
    }
  },
  "cells": [
    {
      "cell_type": "markdown",
      "metadata": {
        "id": "view-in-github",
        "colab_type": "text"
      },
      "source": [
        "<a href=\"https://colab.research.google.com/github/louduf/RECIPEKEEPER/blob/main/Modify_to_include_extreme_cold_condition.ipynb\" target=\"_parent\"><img src=\"https://colab.research.google.com/assets/colab-badge.svg\" alt=\"Open In Colab\"/></a>"
      ]
    },
    {
      "cell_type": "code",
      "execution_count": 6,
      "metadata": {
        "colab": {
          "base_uri": "https://localhost:8080/"
        },
        "id": "KrQ2u-CaCaAC",
        "outputId": "5b9f8159-3ac2-4f78-8c41-5e94c46ed64c"
      },
      "outputs": [
        {
          "output_type": "stream",
          "name": "stdout",
          "text": [
            "Enter the temperature: 30\n",
            "It's a warm day.\n"
          ]
        }
      ],
      "source": [
        "temperature = int(input(\"Enter the temperature: \")) # Assume user inputs 30\n",
        "if temperature > 30:\n",
        "  print(\"It's hot outside.\")\n",
        "elif temperature == 30:\n",
        "  print(\"It's a warm day.\")\n",
        "elif temperature < 0:\n",
        "  print(\"It's extremely cold outside.\")\n",
        "else:\n",
        "  print(\"It's not too hot today.\")\n",
        "\n"
      ]
    }
  ]
}