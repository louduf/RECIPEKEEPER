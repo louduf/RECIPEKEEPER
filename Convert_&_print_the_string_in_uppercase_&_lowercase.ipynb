{
  "nbformat": 4,
  "nbformat_minor": 0,
  "metadata": {
    "colab": {
      "provenance": [],
      "authorship_tag": "ABX9TyNDnv+VN9VxP3cLkSXlqqWZ",
      "include_colab_link": true
    },
    "kernelspec": {
      "name": "python3",
      "display_name": "Python 3"
    },
    "language_info": {
      "name": "python"
    }
  },
  "cells": [
    {
      "cell_type": "markdown",
      "metadata": {
        "id": "view-in-github",
        "colab_type": "text"
      },
      "source": [
        "<a href=\"https://colab.research.google.com/github/louduf/RECIPEKEEPER/blob/main/Convert_%26_print_the_string_in_uppercase_%26_lowercase.ipynb\" target=\"_parent\"><img src=\"https://colab.research.google.com/assets/colab-badge.svg\" alt=\"Open In Colab\"/></a>"
      ]
    },
    {
      "cell_type": "code",
      "execution_count": 2,
      "metadata": {
        "colab": {
          "base_uri": "https://localhost:8080/"
        },
        "id": "adL4PWHC-0bE",
        "outputId": "da318381-81d2-44e2-d9ec-6fc68bbaafd7"
      },
      "outputs": [
        {
          "output_type": "stream",
          "name": "stdout",
          "text": [
            "Enter a string: edinburgh\n",
            "Uppercase: EDINBURGH\n",
            "Lowercase: edinburgh\n"
          ]
        }
      ],
      "source": [
        "user_string = input(\"Enter a string: \")\n",
        "print(\"Uppercase: \" + user_string.upper())\n",
        "print(\"Lowercase: \" + user_string.lower())"
      ]
    }
  ]
}