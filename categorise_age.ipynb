{
  "nbformat": 4,
  "nbformat_minor": 0,
  "metadata": {
    "colab": {
      "provenance": [],
      "authorship_tag": "ABX9TyP3H2ZpadldCFbiqMHIZpGk",
      "include_colab_link": true
    },
    "kernelspec": {
      "name": "python3",
      "display_name": "Python 3"
    },
    "language_info": {
      "name": "python"
    }
  },
  "cells": [
    {
      "cell_type": "markdown",
      "metadata": {
        "id": "view-in-github",
        "colab_type": "text"
      },
      "source": [
        "<a href=\"https://colab.research.google.com/github/louduf/RECIPEKEEPER/blob/main/categorise_age.ipynb\" target=\"_parent\"><img src=\"https://colab.research.google.com/assets/colab-badge.svg\" alt=\"Open In Colab\"/></a>"
      ]
    },
    {
      "cell_type": "code",
      "execution_count": 14,
      "metadata": {
        "colab": {
          "base_uri": "https://localhost:8080/"
        },
        "id": "INoPjamSFI2s",
        "outputId": "43f4cbee-b105-4425-dde7-52661b0e8d98"
      },
      "outputs": [
        {
          "output_type": "stream",
          "name": "stdout",
          "text": [
            "Enter your age: 25\n",
            "Adult.\n"
          ]
        }
      ],
      "source": [
        "age = int(input(\"Enter your age: \")) # Assume user inputs an age\n",
        "if age < 18:\n",
        "  print(\"Child\")\n",
        "elif age >= 18 and age < 65:\n",
        "  print(\"Adult.\")\n",
        "else:\n",
        "  print(\"Senior\")"
      ]
    }
  ]
}