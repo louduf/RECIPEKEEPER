{
  "nbformat": 4,
  "nbformat_minor": 0,
  "metadata": {
    "colab": {
      "provenance": [],
      "authorship_tag": "ABX9TyPEbpsp/ctjGdf3TB/+/Jtk",
      "include_colab_link": true
    },
    "kernelspec": {
      "name": "python3",
      "display_name": "Python 3"
    },
    "language_info": {
      "name": "python"
    }
  },
  "cells": [
    {
      "cell_type": "markdown",
      "metadata": {
        "id": "view-in-github",
        "colab_type": "text"
      },
      "source": [
        "<a href=\"https://colab.research.google.com/github/louduf/RECIPEKEEPER/blob/main/Categorise_score.ipynb\" target=\"_parent\"><img src=\"https://colab.research.google.com/assets/colab-badge.svg\" alt=\"Open In Colab\"/></a>"
      ]
    },
    {
      "cell_type": "code",
      "execution_count": 3,
      "metadata": {
        "colab": {
          "base_uri": "https://localhost:8080/"
        },
        "id": "2OS66cqSLXvQ",
        "outputId": "4799d8b4-ff62-447b-f7ba-b3fa7d8ad16c"
      },
      "outputs": [
        {
          "output_type": "stream",
          "name": "stdout",
          "text": [
            "Enter the score: 80\n",
            "Good\n"
          ]
        }
      ],
      "source": [
        "score = int(input(\"Enter the score: \")) #Assume a user inputs a score\n",
        "if score< 50:\n",
        "  print(\"Poor\")\n",
        "elif 50 <= score < 70:\n",
        "  print(\"Averae\")\n",
        "elif 70 <= score < 90:\n",
        "  print(\"Good\")\n",
        "else:\n",
        "  print(\"Excellent\")\n",
        ""
      ]
    }
  ]
}